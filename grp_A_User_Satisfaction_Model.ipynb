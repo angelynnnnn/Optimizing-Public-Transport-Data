{
 "cells": [
  {
   "cell_type": "markdown",
   "metadata": {},
   "source": [
    "Load New Data"
   ]
  },
  {
   "cell_type": "code",
   "execution_count": 4,
   "metadata": {},
   "outputs": [
    {
     "name": "stdout",
     "output_type": "stream",
     "text": [
      "                    role frequency_of_travel     primary_purpose  \\\n",
      "0  Undergraduate student               Daily  Commute to classes   \n",
      "1  Undergraduate student   3 - 4 days a week  Commute to classes   \n",
      "2  Undergraduate student   3 - 4 days a week  Commute to classes   \n",
      "3  Undergraduate student   3 - 4 days a week  Commute to classes   \n",
      "4  Undergraduate student   1 - 2 days a week  Commute to classes   \n",
      "\n",
      "                                    travel_days  \\\n",
      "0  Monday, Tuesday, Wednesday, Thursday, Friday   \n",
      "1                   Monday, Wednesday, Thursday   \n",
      "2                   Monday, Wednesday, Thursday   \n",
      "3    Monday, Thursday, Friday, Saturday, Sunday   \n",
      "4                     Tuesday, Thursday, Friday   \n",
      "\n",
      "                                        travel_hours ISB_Service  \\\n",
      "0  0900 - 1000, 1000 - 1100, 1100 - 1200, 1200 - ...          A2   \n",
      "1  0900 - 1000, 1100 - 1200, 1300 - 1400, 1500 - ...          D2   \n",
      "2  1700 - 1800, 1800 - 1900, 2100 - 2200, 2200 - ...          A2   \n",
      "3  1100 - 1200, 1200 - 1300, 1800 - 1900, 2100 - ...          A1   \n",
      "4  0700 - 0800, 1000 - 1100, 1100 - 1200, 1200 - ...          A1   \n",
      "\n",
      "    bus_stop_board bus_stop_alight day_of_the_week time_start  ...  \\\n",
      "0         Opp NUSS          Ventus          Friday    9:30:00  ...   \n",
      "1           KR MRT           UTown        Thursday    9:30:00  ...   \n",
      "2  KR Bus Terminal             S17        Thursday   17:50:00  ...   \n",
      "3     PGP Terminal             CLB          Sunday   11:30:00  ...   \n",
      "4           KR MRT            LT27          Friday    7:50:00  ...   \n",
      "\n",
      "  additional_features_frequency  additional_features_seats  \\\n",
      "0                             1                          4   \n",
      "1                             1                          3   \n",
      "2                             1                          3   \n",
      "3                             1                          2   \n",
      "4                             2                          4   \n",
      "\n",
      "   additional_features_cleanliness  additional_features_comfortable  \\\n",
      "0                                6                                5   \n",
      "1                                5                                6   \n",
      "2                                5                                6   \n",
      "3                                5                                5   \n",
      "4                                6                                6   \n",
      "\n",
      "   additional_features_route_coverage  additional_features_updates  \\\n",
      "0                                   3                            3   \n",
      "1                                   3                            2   \n",
      "2                                   6                            3   \n",
      "3                                   4                            2   \n",
      "4                                   3                            2   \n",
      "\n",
      "   issues_with_quality_of_info  special_events  \\\n",
      "0                          Yes               3   \n",
      "1                           No               4   \n",
      "2                           No               3   \n",
      "3                           No               3   \n",
      "4                           No               1   \n",
      "\n",
      "                                    seasonal_changes  is_valid  \n",
      "0                          No, service is consistent      True  \n",
      "1                          No, service is consistent      True  \n",
      "2  Yes, service improves/worsens (please specify ...      True  \n",
      "3                          No, service is consistent      True  \n",
      "4  Yes, service improves/worsens (please specify ...      True  \n",
      "\n",
      "[5 rows x 39 columns]\n"
     ]
    }
   ],
   "source": [
    "import pandas as pd\n",
    "import numpy as np\n",
    "import re\n",
    "import random\n",
    "from datetime import datetime\n",
    "\n",
    "data = pd.read_csv('/Users/nurulizzati/Downloads/new_data.csv')\n",
    "print(data.head())"
   ]
  },
  {
   "cell_type": "markdown",
   "metadata": {},
   "source": [
    "NEW ONE W SYNTHESIZED DATA"
   ]
  },
  {
   "cell_type": "markdown",
   "metadata": {},
   "source": [
    "Data Pre-processing, created an additional column for satisfaction level labels (dissatisfied, neutral, satisfied)"
   ]
  },
  {
   "cell_type": "code",
   "execution_count": 5,
   "metadata": {},
   "outputs": [
    {
     "name": "stdout",
     "output_type": "stream",
     "text": [
      "0        Dissatisfied\n",
      "1           Satisfied\n",
      "2           Satisfied\n",
      "3           Satisfied\n",
      "4           Satisfied\n",
      "             ...     \n",
      "60235         Neutral\n",
      "60236         Neutral\n",
      "60237         Neutral\n",
      "60238         Neutral\n",
      "60239       Satisfied\n",
      "Name: Overall Satisfaction, Length: 60240, dtype: object\n"
     ]
    }
   ],
   "source": [
    "satisfaction_columns = ['frequency','punctuality','cleanliness','safety', 'coverage','crowdedness']\n",
    "\n",
    "def overall_satisfaction(row):\n",
    "\n",
    "    satisfied_count = 0\n",
    "    dissatisfied_count = 0\n",
    "    neutral_count = 0\n",
    "\n",
    "    for col in satisfaction_columns:\n",
    "        if row[col] == 4 or row[col] == 5:\n",
    "            satisfied_count += 1\n",
    "        elif row[col] == 1 or row[col] == 2:\n",
    "            dissatisfied_count += 1\n",
    "        elif row[col] == 3:\n",
    "            neutral_count += 1\n",
    "    \n",
    "    if satisfied_count >= 4:\n",
    "        return 'Satisfied'\n",
    "    elif dissatisfied_count >= 4:\n",
    "        return 'Dissatisfied'\n",
    "    elif neutral_count >= 4:\n",
    "        return 'Neutral'\n",
    "    else:\n",
    "        return 'Neutral'\n",
    "    \n",
    "  #apply this function to each row in data\n",
    "data['Overall Satisfaction'] = data.apply(overall_satisfaction, axis=1)\n",
    "\n",
    "# Print rows where 'Overall Satisfaction' is 'Dissatisfied'\n",
    "#dissatisfied_rows = data[data['Overall Satisfaction'] == 'Dissatisfied']\n",
    "print(data['Overall Satisfaction'])\n",
    "\n",
    "            "
   ]
  },
  {
   "cell_type": "code",
   "execution_count": 5,
   "metadata": {},
   "outputs": [
    {
     "name": "stdout",
     "output_type": "stream",
     "text": [
      "                        role frequency_of_travel  \\\n",
      "0      Undergraduate student               Daily   \n",
      "40     Undergraduate student   1 - 2 days a week   \n",
      "160    Undergraduate student   3 - 4 days a week   \n",
      "240    Undergraduate student               Daily   \n",
      "280    Undergraduate student   1 - 2 days a week   \n",
      "...                      ...                 ...   \n",
      "59282  Undergraduate student   1 - 2 days a week   \n",
      "59333  Undergraduate student   1 - 2 days a week   \n",
      "59620  Undergraduate student   3 - 4 days a week   \n",
      "59704  Undergraduate student   1 - 2 days a week   \n",
      "59964               Visitor    1 - 2 days a week   \n",
      "\n",
      "                                       primary_purpose  \\\n",
      "0                                   Commute to classes   \n",
      "40                                  Commute to classes   \n",
      "160                                 Commute to classes   \n",
      "240                                 Commute to classes   \n",
      "280    Accessing campus facilities (gym, library etc.)   \n",
      "...                                                ...   \n",
      "59282  Accessing campus facilities (gym, library etc.)   \n",
      "59333                               Commute to classes   \n",
      "59620                               Commute to classes   \n",
      "59704                               Commute to classes   \n",
      "59964                Travelling to food establishments   \n",
      "\n",
      "                                        travel_days  \\\n",
      "0      Monday, Tuesday, Wednesday, Thursday, Friday   \n",
      "40                                          Tuesday   \n",
      "160    Monday, Tuesday, Wednesday, Thursday, Friday   \n",
      "240                       Tuesday, Thursday, Friday   \n",
      "280                      Monday, Tuesday, Wednesday   \n",
      "...                                             ...   \n",
      "59282  Monday, Tuesday, Wednesday, Thursday, Friday   \n",
      "59333  Monday, Tuesday, Wednesday, Thursday, Friday   \n",
      "59620                                        Monday   \n",
      "59704                     Tuesday, Thursday, Friday   \n",
      "59964                              Monday, Thursday   \n",
      "\n",
      "                                            travel_hours ISB_Service  \\\n",
      "0      0900 - 1000, 1000 - 1100, 1100 - 1200, 1200 - ...          A2   \n",
      "40                 1200 - 1300, 1300 - 1400, 1400 - 1500          D2   \n",
      "160    1100 - 1200, 1400 - 1500, 1700 - 1800, 2000 - ...          A2   \n",
      "240                             1600 - 1700, 1700 - 1800          D1   \n",
      "280                             1100 - 1200, 1200 - 1300          D1   \n",
      "...                                                  ...         ...   \n",
      "59282  0900 - 1000, 1100 - 1200, 1200 - 1300, 1400 - ...          A1   \n",
      "59333                                        0900 - 1000           K   \n",
      "59620  1100 - 1200, 1300 - 1400, 1400 - 1500, 1700 - ...          A1   \n",
      "59704  0900 - 1000, 1000 - 1100, 1100 - 1200, 1300 - ...          D2   \n",
      "59964  1100 - 1200, 1300 - 1400, 1400 - 1500, 1800 - ...          D2   \n",
      "\n",
      "      bus_stop_board bus_stop_alight day_of_the_week time_start  ...  \\\n",
      "0           Opp NUSS          Ventus          Friday    9:30:00  ...   \n",
      "40             UTown             S17         Tuesday   12:30:00  ...   \n",
      "160               IT        Opp NUSS          Friday   14:45:45  ...   \n",
      "240               IT           UTown          Friday   16:45:45  ...   \n",
      "280               IT             AS5       Wednesday   11:45:45  ...   \n",
      "...              ...             ...             ...        ...  ...   \n",
      "59282         KR MRT            LT27          Friday   11:45:45  ...   \n",
      "59333           LT27      Opp KR MRT          Friday    9:45:45  ...   \n",
      "59620            AS5             CLB          Monday   19:42:17  ...   \n",
      "59704         KR MRT            LT27          Friday   10:27:23  ...   \n",
      "59964     Opp KR MRT            COM3          Monday   19:42:17  ...   \n",
      "\n",
      "      additional_features_seats  additional_features_cleanliness  \\\n",
      "0                             4                                6   \n",
      "40                            4                                6   \n",
      "160                           3                                5   \n",
      "240                           4                                6   \n",
      "280                           4                                6   \n",
      "...                         ...                              ...   \n",
      "59282                         4                                6   \n",
      "59333                         2                                4   \n",
      "59620                         4                                6   \n",
      "59704                         5                                5   \n",
      "59964                         4                                4   \n",
      "\n",
      "       additional_features_comfortable  additional_features_route_coverage  \\\n",
      "0                                    5                                   3   \n",
      "40                                   6                                   3   \n",
      "160                                  5                                   3   \n",
      "240                                  5                                   3   \n",
      "280                                  6                                   3   \n",
      "...                                ...                                 ...   \n",
      "59282                                5                                   2   \n",
      "59333                                5                                   3   \n",
      "59620                                5                                   3   \n",
      "59704                                6                                   4   \n",
      "59964                                3                                   3   \n",
      "\n",
      "       additional_features_updates  issues_with_quality_of_info  \\\n",
      "0                                3                          Yes   \n",
      "40                               2                          Yes   \n",
      "160                              4                          Yes   \n",
      "240                              3                          Yes   \n",
      "280                              2                           No   \n",
      "...                            ...                          ...   \n",
      "59282                            3                           No   \n",
      "59333                            3                          Yes   \n",
      "59620                            4                           No   \n",
      "59704                            5                           No   \n",
      "59964                            4                          Yes   \n",
      "\n",
      "       special_events                                   seasonal_changes  \\\n",
      "0                   3                          No, service is consistent   \n",
      "40                  2  Yes, service improves/worsens (please specify ...   \n",
      "160                 2                          No, service is consistent   \n",
      "240                 2  Yes, service improves/worsens (please specify ...   \n",
      "280                 5                          No, service is consistent   \n",
      "...               ...                                                ...   \n",
      "59282               2  Yes, service improves/worsens (please specify ...   \n",
      "59333               3                          No, service is consistent   \n",
      "59620               2  Yes, service improves/worsens (please specify ...   \n",
      "59704               1                          No, service is consistent   \n",
      "59964               4  Yes, service improves/worsens (please specify ...   \n",
      "\n",
      "       is_valid  Overall Satisfaction  \n",
      "0          True          Dissatisfied  \n",
      "40         True          Dissatisfied  \n",
      "160        True          Dissatisfied  \n",
      "240        True          Dissatisfied  \n",
      "280        True          Dissatisfied  \n",
      "...         ...                   ...  \n",
      "59282      True          Dissatisfied  \n",
      "59333      True          Dissatisfied  \n",
      "59620      True          Dissatisfied  \n",
      "59704      True          Dissatisfied  \n",
      "59964      True          Dissatisfied  \n",
      "\n",
      "[448 rows x 40 columns]\n"
     ]
    }
   ],
   "source": [
    "neutral_rows = data[data['Overall Satisfaction'] == 'Dissatisfied']\n",
    "print(neutral_rows)"
   ]
  },
  {
   "cell_type": "markdown",
   "metadata": {},
   "source": [
    "Adding in synthetic data to ensure that distribution of the 3 labels are balanced"
   ]
  },
  {
   "cell_type": "code",
   "execution_count": 6,
   "metadata": {},
   "outputs": [
    {
     "name": "stdout",
     "output_type": "stream",
     "text": [
      "Overall Satisfaction\n",
      "Satisfied       32665\n",
      "Neutral         29268\n",
      "Dissatisfied    20307\n",
      "Name: count, dtype: int64\n"
     ]
    }
   ],
   "source": [
    "import pandas as pd\n",
    "import numpy as np\n",
    "\n",
    "# Assuming your original DataFrame is named 'data'\n",
    "\n",
    "# Function to generate a dissatisfied row\n",
    "def generate_dissatisfied_row():\n",
    "    # Choose random values for satisfaction columns, favoring 1s and 2s\n",
    "    return {\n",
    "        'frequency': np.random.choice([1, 2, 3, 4, 5], p=[0.4, 0.4, 0.1, 0.05, 0.05]),\n",
    "        'punctuality': np.random.choice([1, 2, 3, 4, 5], p=[0.4, 0.4, 0.1, 0.05, 0.05]),\n",
    "        'cleanliness': np.random.choice([1, 2, 3, 4, 5], p=[0.4, 0.4, 0.1, 0.05, 0.05]),\n",
    "        'safety': np.random.choice([1, 2, 3, 4, 5], p=[0.4, 0.4, 0.1, 0.05, 0.05]),\n",
    "        'coverage': np.random.choice([1, 2, 3, 4, 5], p=[0.4, 0.4, 0.1, 0.05, 0.05]),\n",
    "        'crowdedness': np.random.choice([1, 2, 3, 4, 5], p=[0.4, 0.4, 0.1, 0.05, 0.05]),\n",
    "    }\n",
    "\n",
    "# Generate 2000 dissatisfied rows\n",
    "new_dissatisfied_rows = pd.DataFrame([generate_dissatisfied_row() for _ in range(22000)])\n",
    "\n",
    "# Combine the new rows with the existing data\n",
    "data = pd.concat([data, new_dissatisfied_rows], ignore_index=True)\n",
    "\n",
    "# Recalculate the overall satisfaction for the updated dataset\n",
    "data['Overall Satisfaction'] = data.apply(overall_satisfaction, axis=1)\n",
    "\n",
    "# Print the counts of each satisfaction label\n",
    "print(data['Overall Satisfaction'].value_counts())\n"
   ]
  },
  {
   "cell_type": "markdown",
   "metadata": {},
   "source": [
    "Decision Tree Model Training "
   ]
  },
  {
   "cell_type": "code",
   "execution_count": 7,
   "metadata": {},
   "outputs": [
    {
     "ename": "KeyboardInterrupt",
     "evalue": "",
     "output_type": "error",
     "traceback": [
      "\u001b[0;31m---------------------------------------------------------------------------\u001b[0m",
      "\u001b[0;31mKeyboardInterrupt\u001b[0m                         Traceback (most recent call last)",
      "Cell \u001b[0;32mIn[7], line 18\u001b[0m\n\u001b[1;32m     15\u001b[0m Y \u001b[38;5;241m=\u001b[39m data[\u001b[38;5;124m'\u001b[39m\u001b[38;5;124mOverall Satisfaction\u001b[39m\u001b[38;5;124m'\u001b[39m]\n\u001b[1;32m     17\u001b[0m \u001b[38;5;66;03m# One-hot encode categorical variables\u001b[39;00m\n\u001b[0;32m---> 18\u001b[0m X \u001b[38;5;241m=\u001b[39m \u001b[43mpd\u001b[49m\u001b[38;5;241;43m.\u001b[39;49m\u001b[43mget_dummies\u001b[49m\u001b[43m(\u001b[49m\u001b[43mX\u001b[49m\u001b[43m,\u001b[49m\u001b[43m \u001b[49m\u001b[43mdrop_first\u001b[49m\u001b[38;5;241;43m=\u001b[39;49m\u001b[38;5;28;43;01mTrue\u001b[39;49;00m\u001b[43m)\u001b[49m\n\u001b[1;32m     20\u001b[0m \u001b[38;5;66;03m# 80/20 split for training and testing dataset\u001b[39;00m\n\u001b[1;32m     21\u001b[0m X_train, X_test, y_train, y_test \u001b[38;5;241m=\u001b[39m train_test_split(X, Y, test_size\u001b[38;5;241m=\u001b[39m\u001b[38;5;241m0.2\u001b[39m, random_state\u001b[38;5;241m=\u001b[39m\u001b[38;5;241m42\u001b[39m)\n",
      "File \u001b[0;32m/Library/Frameworks/Python.framework/Versions/3.12/lib/python3.12/site-packages/pandas/core/reshape/encoding.py:214\u001b[0m, in \u001b[0;36mget_dummies\u001b[0;34m(data, prefix, prefix_sep, dummy_na, columns, sparse, drop_first, dtype)\u001b[0m\n\u001b[1;32m    210\u001b[0m     with_dummies \u001b[38;5;241m=\u001b[39m [data\u001b[38;5;241m.\u001b[39mselect_dtypes(exclude\u001b[38;5;241m=\u001b[39mdtypes_to_encode)]\n\u001b[1;32m    212\u001b[0m \u001b[38;5;28;01mfor\u001b[39;00m col, pre, sep \u001b[38;5;129;01min\u001b[39;00m \u001b[38;5;28mzip\u001b[39m(data_to_encode\u001b[38;5;241m.\u001b[39mitems(), prefix, prefix_sep):\n\u001b[1;32m    213\u001b[0m     \u001b[38;5;66;03m# col is (column_name, column), use just column data here\u001b[39;00m\n\u001b[0;32m--> 214\u001b[0m     dummy \u001b[38;5;241m=\u001b[39m \u001b[43m_get_dummies_1d\u001b[49m\u001b[43m(\u001b[49m\n\u001b[1;32m    215\u001b[0m \u001b[43m        \u001b[49m\u001b[43mcol\u001b[49m\u001b[43m[\u001b[49m\u001b[38;5;241;43m1\u001b[39;49m\u001b[43m]\u001b[49m\u001b[43m,\u001b[49m\n\u001b[1;32m    216\u001b[0m \u001b[43m        \u001b[49m\u001b[43mprefix\u001b[49m\u001b[38;5;241;43m=\u001b[39;49m\u001b[43mpre\u001b[49m\u001b[43m,\u001b[49m\n\u001b[1;32m    217\u001b[0m \u001b[43m        \u001b[49m\u001b[43mprefix_sep\u001b[49m\u001b[38;5;241;43m=\u001b[39;49m\u001b[43msep\u001b[49m\u001b[43m,\u001b[49m\n\u001b[1;32m    218\u001b[0m \u001b[43m        \u001b[49m\u001b[43mdummy_na\u001b[49m\u001b[38;5;241;43m=\u001b[39;49m\u001b[43mdummy_na\u001b[49m\u001b[43m,\u001b[49m\n\u001b[1;32m    219\u001b[0m \u001b[43m        \u001b[49m\u001b[43msparse\u001b[49m\u001b[38;5;241;43m=\u001b[39;49m\u001b[43msparse\u001b[49m\u001b[43m,\u001b[49m\n\u001b[1;32m    220\u001b[0m \u001b[43m        \u001b[49m\u001b[43mdrop_first\u001b[49m\u001b[38;5;241;43m=\u001b[39;49m\u001b[43mdrop_first\u001b[49m\u001b[43m,\u001b[49m\n\u001b[1;32m    221\u001b[0m \u001b[43m        \u001b[49m\u001b[43mdtype\u001b[49m\u001b[38;5;241;43m=\u001b[39;49m\u001b[43mdtype\u001b[49m\u001b[43m,\u001b[49m\n\u001b[1;32m    222\u001b[0m \u001b[43m    \u001b[49m\u001b[43m)\u001b[49m\n\u001b[1;32m    223\u001b[0m     with_dummies\u001b[38;5;241m.\u001b[39mappend(dummy)\n\u001b[1;32m    224\u001b[0m result \u001b[38;5;241m=\u001b[39m concat(with_dummies, axis\u001b[38;5;241m=\u001b[39m\u001b[38;5;241m1\u001b[39m)\n",
      "File \u001b[0;32m/Library/Frameworks/Python.framework/Versions/3.12/lib/python3.12/site-packages/pandas/core/reshape/encoding.py:363\u001b[0m, in \u001b[0;36m_get_dummies_1d\u001b[0;34m(data, prefix, prefix_sep, dummy_na, sparse, drop_first, dtype)\u001b[0m\n\u001b[1;32m    360\u001b[0m \u001b[38;5;28;01mif\u001b[39;00m drop_first:\n\u001b[1;32m    361\u001b[0m     \u001b[38;5;66;03m# remove first GH12042\u001b[39;00m\n\u001b[1;32m    362\u001b[0m     dummy_mat \u001b[38;5;241m=\u001b[39m dummy_mat[:, \u001b[38;5;241m1\u001b[39m:]\n\u001b[0;32m--> 363\u001b[0m     dummy_cols \u001b[38;5;241m=\u001b[39m \u001b[43mdummy_cols\u001b[49m\u001b[43m[\u001b[49m\u001b[38;5;241;43m1\u001b[39;49m\u001b[43m:\u001b[49m\u001b[43m]\u001b[49m\n\u001b[1;32m    364\u001b[0m \u001b[38;5;28;01mreturn\u001b[39;00m DataFrame(dummy_mat, index\u001b[38;5;241m=\u001b[39mindex, columns\u001b[38;5;241m=\u001b[39mdummy_cols, dtype\u001b[38;5;241m=\u001b[39m_dtype)\n",
      "File \u001b[0;32m/Library/Frameworks/Python.framework/Versions/3.12/lib/python3.12/site-packages/pandas/core/indexes/base.py:5373\u001b[0m, in \u001b[0;36mIndex.__getitem__\u001b[0;34m(self, key)\u001b[0m\n\u001b[1;32m   5369\u001b[0m \u001b[38;5;129m@final\u001b[39m\n\u001b[1;32m   5370\u001b[0m \u001b[38;5;28;01mdef\u001b[39;00m \u001b[38;5;21m__setitem__\u001b[39m(\u001b[38;5;28mself\u001b[39m, key, value) \u001b[38;5;241m-\u001b[39m\u001b[38;5;241m>\u001b[39m \u001b[38;5;28;01mNone\u001b[39;00m:\n\u001b[1;32m   5371\u001b[0m     \u001b[38;5;28;01mraise\u001b[39;00m \u001b[38;5;167;01mTypeError\u001b[39;00m(\u001b[38;5;124m\"\u001b[39m\u001b[38;5;124mIndex does not support mutable operations\u001b[39m\u001b[38;5;124m\"\u001b[39m)\n\u001b[0;32m-> 5373\u001b[0m \u001b[38;5;28;01mdef\u001b[39;00m \u001b[38;5;21m__getitem__\u001b[39m(\u001b[38;5;28mself\u001b[39m, key):\n\u001b[1;32m   5374\u001b[0m \u001b[38;5;250m    \u001b[39m\u001b[38;5;124;03m\"\"\"\u001b[39;00m\n\u001b[1;32m   5375\u001b[0m \u001b[38;5;124;03m    Override numpy.ndarray's __getitem__ method to work as desired.\u001b[39;00m\n\u001b[1;32m   5376\u001b[0m \n\u001b[0;32m   (...)\u001b[0m\n\u001b[1;32m   5382\u001b[0m \n\u001b[1;32m   5383\u001b[0m \u001b[38;5;124;03m    \"\"\"\u001b[39;00m\n\u001b[1;32m   5384\u001b[0m     getitem \u001b[38;5;241m=\u001b[39m \u001b[38;5;28mself\u001b[39m\u001b[38;5;241m.\u001b[39m_data\u001b[38;5;241m.\u001b[39m\u001b[38;5;21m__getitem__\u001b[39m\n",
      "\u001b[0;31mKeyboardInterrupt\u001b[0m: "
     ]
    }
   ],
   "source": [
    "import pandas as pd\n",
    "from sklearn.model_selection import train_test_split\n",
    "from sklearn.tree import DecisionTreeClassifier\n",
    "from sklearn.preprocessing import LabelEncoder\n",
    "from sklearn.metrics import classification_report, accuracy_score\n",
    "\n",
    "#since we are trying to predict Overall Satisfaction, to encode it\n",
    "data['Overall Satisfaction'] = LabelEncoder().fit_transform(data['Overall Satisfaction'])\n",
    "\n",
    "#decide on feature set (X) and the target variable (y)\n",
    "\n",
    "#X =  data.drop(columns=['frequency','punctuality','cleanliness','safety', 'coverage','crowdedness','Overall Satisfaction'])\n",
    "X =  data.drop(columns=['Overall Satisfaction'])\n",
    "\n",
    "Y = data['Overall Satisfaction']\n",
    "\n",
    "# One-hot encode categorical variables\n",
    "X = pd.get_dummies(X, drop_first=True)\n",
    "\n",
    "# 80/20 split for training and testing dataset\n",
    "X_train, X_test, y_train, y_test = train_test_split(X, Y, test_size=0.2, random_state=42)\n",
    "\n",
    "# Create and train the decision tree classifier\n",
    "clf = DecisionTreeClassifier()\n",
    "clf.fit(X_train, y_train)\n",
    "\n",
    "# Make predictions\n",
    "y_pred = clf.predict(X_test)\n",
    "\n",
    "# Evaluate the model\n",
    "print(classification_report(y_test, y_pred))\n",
    "print(\"Accuracy:\", accuracy_score(y_test, y_pred))\n",
    "\n",
    "\n",
    "#include more fake data for label 0"
   ]
  },
  {
   "cell_type": "markdown",
   "metadata": {},
   "source": [
    "Better model"
   ]
  },
  {
   "cell_type": "code",
   "execution_count": 8,
   "metadata": {},
   "outputs": [
    {
     "name": "stdout",
     "output_type": "stream",
     "text": [
      "              precision    recall  f1-score   support\n",
      "\n",
      "           0       0.93      0.98      0.95      4038\n",
      "           1       0.85      0.84      0.84      5931\n",
      "           2       0.90      0.88      0.89      6479\n",
      "\n",
      "    accuracy                           0.89     16448\n",
      "   macro avg       0.89      0.90      0.89     16448\n",
      "weighted avg       0.89      0.89      0.89     16448\n",
      "\n",
      "Accuracy: 0.8883146887159533\n"
     ]
    }
   ],
   "source": [
    "import pandas as pd\n",
    "from sklearn.model_selection import train_test_split, cross_val_score\n",
    "from sklearn.tree import DecisionTreeClassifier\n",
    "from sklearn.preprocessing import LabelEncoder\n",
    "from sklearn.metrics import classification_report, accuracy_score\n",
    "\n",
    "# Encode target variable\n",
    "data['Overall Satisfaction'] = LabelEncoder().fit_transform(data['Overall Satisfaction'])\n",
    "\n",
    "# Feature set and target variable\n",
    "X = data.drop(columns=['Overall Satisfaction'])\n",
    "Y = data['Overall Satisfaction']\n",
    "\n",
    "# One-hot encode categorical variables\n",
    "X = pd.get_dummies(X, drop_first=True)\n",
    "\n",
    "# Train-test split\n",
    "X_train, X_test, y_train, y_test = train_test_split(X, Y, test_size=0.2, random_state=42)\n",
    "\n",
    "# Create and train the decision tree classifier with constraints\n",
    "clf = DecisionTreeClassifier(max_depth=5, class_weight='balanced')\n",
    "clf.fit(X_train, y_train)\n",
    "\n",
    "# Make predictions\n",
    "y_pred = clf.predict(X_test)\n",
    "\n",
    "# Evaluate the model\n",
    "print(classification_report(y_test, y_pred))\n",
    "print(\"Accuracy:\", accuracy_score(y_test, y_pred))"
   ]
  },
  {
   "cell_type": "markdown",
   "metadata": {},
   "source": [
    "Feature importance to check for top 3 factors"
   ]
  },
  {
   "cell_type": "code",
   "execution_count": 9,
   "metadata": {},
   "outputs": [
    {
     "name": "stdout",
     "output_type": "stream",
     "text": [
      "                                                 Feature  Importance\n",
      "15                         prioritize_bus_route_coverage    0.549242\n",
      "1                                            punctuality    0.107814\n",
      "4                                               coverage    0.101912\n",
      "3                                                 safety    0.092375\n",
      "5                                            crowdedness    0.085112\n",
      "...                                                  ...         ...\n",
      "5019                                 time_start_13:02:21    0.000000\n",
      "5020                                 time_start_13:02:23    0.000000\n",
      "5021                                 time_start_13:02:27    0.000000\n",
      "5022                                 time_start_13:02:29    0.000000\n",
      "15034  seasonal_changes_Yes, service improves/worsens...    0.000000\n",
      "\n",
      "[15035 rows x 2 columns]\n"
     ]
    }
   ],
   "source": [
    "\n",
    "# Get feature importances\n",
    "importances = clf.feature_importances_\n",
    "\n",
    "# Create a DataFrame to display feature importances\n",
    "feature_importance_df = pd.DataFrame({'Feature': X.columns, 'Importance': importances})\n",
    "\n",
    "\n",
    "# Sort the DataFrame by importance\n",
    "feature_importance_df = feature_importance_df.sort_values(by='Importance', ascending=False)\n",
    "\n",
    "# Display the feature importances\n",
    "print(feature_importance_df)"
   ]
  },
  {
   "cell_type": "code",
   "execution_count": 10,
   "metadata": {},
   "outputs": [
    {
     "data": {
      "image/png": "[encoded data removed]",
      "text/plain": [
       "<Figure size 1200x800 with 1 Axes>"
      ]
     },
     "metadata": {},
     "output_type": "display_data"
    }
   ],
   "source": [
    "import matplotlib.pyplot as plt\n",
    "from sklearn.tree import plot_tree\n",
    "\n",
    "#figure size\n",
    "plt.figure(figsize=(12, 8))\n",
    "\n",
    "#plot the decision tree\n",
    "plot_tree(clf, filled=True, feature_names=X.columns, class_names=['Dissatisfied', 'Neutral', 'Satisfied'], rounded=True)\n",
    "plt.title('Decision Tree Visualization')\n",
    "plt.show()"
   ]
  },
  {
   "cell_type": "code",
   "execution_count": 9,
   "metadata": {},
   "outputs": [
    {
     "name": "stdout",
     "output_type": "stream",
     "text": [
      "              precision    recall  f1-score   support\n",
      "\n",
      "           0       0.92      0.98      0.95      4460\n",
      "           1       0.85      0.83      0.84      5993\n",
      "           2       0.90      0.87      0.88      6395\n",
      "\n",
      "    accuracy                           0.88     16848\n",
      "   macro avg       0.89      0.89      0.89     16848\n",
      "weighted avg       0.88      0.88      0.88     16848\n",
      "\n",
      "Accuracy: 0.8848528015194682\n"
     ]
    }
   ],
   "source": [
    "import pandas as pd\n",
    "from sklearn.model_selection import train_test_split, cross_val_score\n",
    "from sklearn.tree import DecisionTreeClassifier\n",
    "from sklearn.preprocessing import LabelEncoder\n",
    "from sklearn.metrics import classification_report, accuracy_score\n",
    "\n",
    "# Encode target variable\n",
    "data['Overall Satisfaction'] = LabelEncoder().fit_transform(data['Overall Satisfaction'])\n",
    "\n",
    "# Feature set and target variable\n",
    "X = data.drop(columns=['Overall Satisfaction'])\n",
    "Y = data['Overall Satisfaction']\n",
    "\n",
    "# One-hot encode categorical variables\n",
    "X = pd.get_dummies(X, drop_first=True)\n",
    "\n",
    "# Train-test split\n",
    "X_train, X_test, y_train, y_test = train_test_split(X, Y, test_size=0.2, random_state=42)\n",
    "\n",
    "# Create and train the decision tree classifier with constraints\n",
    "clf = DecisionTreeClassifier(max_depth=5, class_weight='balanced')\n",
    "clf.fit(X_train, y_train)\n",
    "\n",
    "# Make predictions\n",
    "y_pred = clf.predict(X_test)\n",
    "\n",
    "# Evaluate the model\n",
    "print(classification_report(y_test, y_pred))\n",
    "print(\"Accuracy:\", accuracy_score(y_test, y_pred))\n",
    "\n",
    "# Cross-validation scores\n",
    "cv_scores = cross_val_score(clf, X, Y, cv=5)\n",
    "print(\"Cross-validation scores:\", cv_scores)\n"
   ]
  }
 ],
 "metadata": {
  "kernelspec": {
   "display_name": "Python 3",
   "language": "python",
   "name": "python3"
  },
  "language_info": {
   "codemirror_mode": {
    "name": "ipython",
    "version": 3
   },
   "file_extension": ".py",
   "mimetype": "text/x-python",
   "name": "python",
   "nbconvert_exporter": "python",
   "pygments_lexer": "ipython3",
   "version": "3.12.2"
  }
 },
 "nbformat": 4,
 "nbformat_minor": 2
}
